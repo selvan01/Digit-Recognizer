{
 "cells": [
  {
   "cell_type": "markdown",
   "id": "dcd11c79",
   "metadata": {
    "papermill": {
     "duration": 0.007829,
     "end_time": "2023-12-31T20:03:22.954453",
     "exception": false,
     "start_time": "2023-12-31T20:03:22.946624",
     "status": "completed"
    },
    "tags": []
   },
   "source": [
    "# First import the necessery libraries"
   ]
  },
  {
   "cell_type": "code",
   "execution_count": 1,
   "id": "4250149d",
   "metadata": {
    "execution": {
     "iopub.execute_input": "2023-12-31T20:03:22.970667Z",
     "iopub.status.busy": "2023-12-31T20:03:22.970376Z",
     "iopub.status.idle": "2023-12-31T20:03:36.270350Z",
     "shell.execute_reply": "2023-12-31T20:03:36.269414Z"
    },
    "papermill": {
     "duration": 13.310848,
     "end_time": "2023-12-31T20:03:36.272842",
     "exception": false,
     "start_time": "2023-12-31T20:03:22.961994",
     "status": "completed"
    },
    "tags": []
   },
   "outputs": [
    {
     "name": "stderr",
     "output_type": "stream",
     "text": [
      "/opt/conda/lib/python3.10/site-packages/scipy/__init__.py:146: UserWarning: A NumPy version >=1.16.5 and <1.23.0 is required for this version of SciPy (detected version 1.24.3\n",
      "  warnings.warn(f\"A NumPy version >={np_minversion} and <{np_maxversion}\"\n"
     ]
    }
   ],
   "source": [
    "import numpy as np \n",
    "import pandas as pd \n",
    "import matplotlib.pyplot as plt\n",
    "import seaborn as sns\n",
    "import random\n",
    "import os\n",
    "import cv2\n",
    "import tensorflow as tf\n",
    "from tensorflow import keras\n",
    "from keras.preprocessing.image import ImageDataGenerator\n",
    "from keras.layers import Dense,Flatten\n",
    "from tensorflow.keras.layers import InputLayer, Conv2D, MaxPool2D, BatchNormalization, Dropout\n",
    "from keras.models import Sequential\n",
    "from sklearn.model_selection import train_test_split\n",
    "\n",
    "\n",
    "import warnings\n",
    "warnings.filterwarnings(\"ignore\")"
   ]
  },
  {
   "cell_type": "markdown",
   "id": "b7d37a78",
   "metadata": {
    "papermill": {
     "duration": 0.007295,
     "end_time": "2023-12-31T20:03:36.288057",
     "exception": false,
     "start_time": "2023-12-31T20:03:36.280762",
     "status": "completed"
    },
    "tags": []
   },
   "source": [
    "# Reading the Dataset"
   ]
  },
  {
   "cell_type": "code",
   "execution_count": 2,
   "id": "6244e7dc",
   "metadata": {
    "execution": {
     "iopub.execute_input": "2023-12-31T20:03:36.304765Z",
     "iopub.status.busy": "2023-12-31T20:03:36.303804Z",
     "iopub.status.idle": "2023-12-31T20:03:41.821633Z",
     "shell.execute_reply": "2023-12-31T20:03:41.820676Z"
    },
    "papermill": {
     "duration": 5.528821,
     "end_time": "2023-12-31T20:03:41.824158",
     "exception": false,
     "start_time": "2023-12-31T20:03:36.295337",
     "status": "completed"
    },
    "tags": []
   },
   "outputs": [],
   "source": [
    "train_df = pd.read_csv(\"/kaggle/input/digit-recognizer/train.csv\")\n",
    "test_df = pd.read_csv(\"/kaggle/input/digit-recognizer/test.csv\")"
   ]
  },
  {
   "cell_type": "code",
   "execution_count": 3,
   "id": "3ad26011",
   "metadata": {
    "execution": {
     "iopub.execute_input": "2023-12-31T20:03:41.841405Z",
     "iopub.status.busy": "2023-12-31T20:03:41.841039Z",
     "iopub.status.idle": "2023-12-31T20:03:41.865312Z",
     "shell.execute_reply": "2023-12-31T20:03:41.864438Z"
    },
    "papermill": {
     "duration": 0.035008,
     "end_time": "2023-12-31T20:03:41.867257",
     "exception": false,
     "start_time": "2023-12-31T20:03:41.832249",
     "status": "completed"
    },
    "tags": []
   },
   "outputs": [
    {
     "name": "stdout",
     "output_type": "stream",
     "text": [
      "(42000, 785)\n"
     ]
    },
    {
     "data": {
      "text/html": [
       "<div>\n",
       "<style scoped>\n",
       "    .dataframe tbody tr th:only-of-type {\n",
       "        vertical-align: middle;\n",
       "    }\n",
       "\n",
       "    .dataframe tbody tr th {\n",
       "        vertical-align: top;\n",
       "    }\n",
       "\n",
       "    .dataframe thead th {\n",
       "        text-align: right;\n",
       "    }\n",
       "</style>\n",
       "<table border=\"1\" class=\"dataframe\">\n",
       "  <thead>\n",
       "    <tr style=\"text-align: right;\">\n",
       "      <th></th>\n",
       "      <th>label</th>\n",
       "      <th>pixel0</th>\n",
       "      <th>pixel1</th>\n",
       "      <th>pixel2</th>\n",
       "      <th>pixel3</th>\n",
       "      <th>pixel4</th>\n",
       "      <th>pixel5</th>\n",
       "      <th>pixel6</th>\n",
       "      <th>pixel7</th>\n",
       "      <th>pixel8</th>\n",
       "      <th>...</th>\n",
       "      <th>pixel774</th>\n",
       "      <th>pixel775</th>\n",
       "      <th>pixel776</th>\n",
       "      <th>pixel777</th>\n",
       "      <th>pixel778</th>\n",
       "      <th>pixel779</th>\n",
       "      <th>pixel780</th>\n",
       "      <th>pixel781</th>\n",
       "      <th>pixel782</th>\n",
       "      <th>pixel783</th>\n",
       "    </tr>\n",
       "  </thead>\n",
       "  <tbody>\n",
       "    <tr>\n",
       "      <th>0</th>\n",
       "      <td>1</td>\n",
       "      <td>0</td>\n",
       "      <td>0</td>\n",
       "      <td>0</td>\n",
       "      <td>0</td>\n",
       "      <td>0</td>\n",
       "      <td>0</td>\n",
       "      <td>0</td>\n",
       "      <td>0</td>\n",
       "      <td>0</td>\n",
       "      <td>...</td>\n",
       "      <td>0</td>\n",
       "      <td>0</td>\n",
       "      <td>0</td>\n",
       "      <td>0</td>\n",
       "      <td>0</td>\n",
       "      <td>0</td>\n",
       "      <td>0</td>\n",
       "      <td>0</td>\n",
       "      <td>0</td>\n",
       "      <td>0</td>\n",
       "    </tr>\n",
       "    <tr>\n",
       "      <th>1</th>\n",
       "      <td>0</td>\n",
       "      <td>0</td>\n",
       "      <td>0</td>\n",
       "      <td>0</td>\n",
       "      <td>0</td>\n",
       "      <td>0</td>\n",
       "      <td>0</td>\n",
       "      <td>0</td>\n",
       "      <td>0</td>\n",
       "      <td>0</td>\n",
       "      <td>...</td>\n",
       "      <td>0</td>\n",
       "      <td>0</td>\n",
       "      <td>0</td>\n",
       "      <td>0</td>\n",
       "      <td>0</td>\n",
       "      <td>0</td>\n",
       "      <td>0</td>\n",
       "      <td>0</td>\n",
       "      <td>0</td>\n",
       "      <td>0</td>\n",
       "    </tr>\n",
       "    <tr>\n",
       "      <th>2</th>\n",
       "      <td>1</td>\n",
       "      <td>0</td>\n",
       "      <td>0</td>\n",
       "      <td>0</td>\n",
       "      <td>0</td>\n",
       "      <td>0</td>\n",
       "      <td>0</td>\n",
       "      <td>0</td>\n",
       "      <td>0</td>\n",
       "      <td>0</td>\n",
       "      <td>...</td>\n",
       "      <td>0</td>\n",
       "      <td>0</td>\n",
       "      <td>0</td>\n",
       "      <td>0</td>\n",
       "      <td>0</td>\n",
       "      <td>0</td>\n",
       "      <td>0</td>\n",
       "      <td>0</td>\n",
       "      <td>0</td>\n",
       "      <td>0</td>\n",
       "    </tr>\n",
       "    <tr>\n",
       "      <th>3</th>\n",
       "      <td>4</td>\n",
       "      <td>0</td>\n",
       "      <td>0</td>\n",
       "      <td>0</td>\n",
       "      <td>0</td>\n",
       "      <td>0</td>\n",
       "      <td>0</td>\n",
       "      <td>0</td>\n",
       "      <td>0</td>\n",
       "      <td>0</td>\n",
       "      <td>...</td>\n",
       "      <td>0</td>\n",
       "      <td>0</td>\n",
       "      <td>0</td>\n",
       "      <td>0</td>\n",
       "      <td>0</td>\n",
       "      <td>0</td>\n",
       "      <td>0</td>\n",
       "      <td>0</td>\n",
       "      <td>0</td>\n",
       "      <td>0</td>\n",
       "    </tr>\n",
       "    <tr>\n",
       "      <th>4</th>\n",
       "      <td>0</td>\n",
       "      <td>0</td>\n",
       "      <td>0</td>\n",
       "      <td>0</td>\n",
       "      <td>0</td>\n",
       "      <td>0</td>\n",
       "      <td>0</td>\n",
       "      <td>0</td>\n",
       "      <td>0</td>\n",
       "      <td>0</td>\n",
       "      <td>...</td>\n",
       "      <td>0</td>\n",
       "      <td>0</td>\n",
       "      <td>0</td>\n",
       "      <td>0</td>\n",
       "      <td>0</td>\n",
       "      <td>0</td>\n",
       "      <td>0</td>\n",
       "      <td>0</td>\n",
       "      <td>0</td>\n",
       "      <td>0</td>\n",
       "    </tr>\n",
       "  </tbody>\n",
       "</table>\n",
       "<p>5 rows × 785 columns</p>\n",
       "</div>"
      ],
      "text/plain": [
       "   label  pixel0  pixel1  pixel2  pixel3  pixel4  pixel5  pixel6  pixel7  \\\n",
       "0      1       0       0       0       0       0       0       0       0   \n",
       "1      0       0       0       0       0       0       0       0       0   \n",
       "2      1       0       0       0       0       0       0       0       0   \n",
       "3      4       0       0       0       0       0       0       0       0   \n",
       "4      0       0       0       0       0       0       0       0       0   \n",
       "\n",
       "   pixel8  ...  pixel774  pixel775  pixel776  pixel777  pixel778  pixel779  \\\n",
       "0       0  ...         0         0         0         0         0         0   \n",
       "1       0  ...         0         0         0         0         0         0   \n",
       "2       0  ...         0         0         0         0         0         0   \n",
       "3       0  ...         0         0         0         0         0         0   \n",
       "4       0  ...         0         0         0         0         0         0   \n",
       "\n",
       "   pixel780  pixel781  pixel782  pixel783  \n",
       "0         0         0         0         0  \n",
       "1         0         0         0         0  \n",
       "2         0         0         0         0  \n",
       "3         0         0         0         0  \n",
       "4         0         0         0         0  \n",
       "\n",
       "[5 rows x 785 columns]"
      ]
     },
     "execution_count": 3,
     "metadata": {},
     "output_type": "execute_result"
    }
   ],
   "source": [
    "print(train_df.shape)\n",
    "train_df.head()"
   ]
  },
  {
   "cell_type": "code",
   "execution_count": 4,
   "id": "0de418fb",
   "metadata": {
    "execution": {
     "iopub.execute_input": "2023-12-31T20:03:41.884365Z",
     "iopub.status.busy": "2023-12-31T20:03:41.884078Z",
     "iopub.status.idle": "2023-12-31T20:03:41.900489Z",
     "shell.execute_reply": "2023-12-31T20:03:41.899562Z"
    },
    "papermill": {
     "duration": 0.028166,
     "end_time": "2023-12-31T20:03:41.903260",
     "exception": false,
     "start_time": "2023-12-31T20:03:41.875094",
     "status": "completed"
    },
    "tags": []
   },
   "outputs": [
    {
     "name": "stdout",
     "output_type": "stream",
     "text": [
      "(28000, 784)\n"
     ]
    },
    {
     "data": {
      "text/html": [
       "<div>\n",
       "<style scoped>\n",
       "    .dataframe tbody tr th:only-of-type {\n",
       "        vertical-align: middle;\n",
       "    }\n",
       "\n",
       "    .dataframe tbody tr th {\n",
       "        vertical-align: top;\n",
       "    }\n",
       "\n",
       "    .dataframe thead th {\n",
       "        text-align: right;\n",
       "    }\n",
       "</style>\n",
       "<table border=\"1\" class=\"dataframe\">\n",
       "  <thead>\n",
       "    <tr style=\"text-align: right;\">\n",
       "      <th></th>\n",
       "      <th>pixel0</th>\n",
       "      <th>pixel1</th>\n",
       "      <th>pixel2</th>\n",
       "      <th>pixel3</th>\n",
       "      <th>pixel4</th>\n",
       "      <th>pixel5</th>\n",
       "      <th>pixel6</th>\n",
       "      <th>pixel7</th>\n",
       "      <th>pixel8</th>\n",
       "      <th>pixel9</th>\n",
       "      <th>...</th>\n",
       "      <th>pixel774</th>\n",
       "      <th>pixel775</th>\n",
       "      <th>pixel776</th>\n",
       "      <th>pixel777</th>\n",
       "      <th>pixel778</th>\n",
       "      <th>pixel779</th>\n",
       "      <th>pixel780</th>\n",
       "      <th>pixel781</th>\n",
       "      <th>pixel782</th>\n",
       "      <th>pixel783</th>\n",
       "    </tr>\n",
       "  </thead>\n",
       "  <tbody>\n",
       "    <tr>\n",
       "      <th>0</th>\n",
       "      <td>0</td>\n",
       "      <td>0</td>\n",
       "      <td>0</td>\n",
       "      <td>0</td>\n",
       "      <td>0</td>\n",
       "      <td>0</td>\n",
       "      <td>0</td>\n",
       "      <td>0</td>\n",
       "      <td>0</td>\n",
       "      <td>0</td>\n",
       "      <td>...</td>\n",
       "      <td>0</td>\n",
       "      <td>0</td>\n",
       "      <td>0</td>\n",
       "      <td>0</td>\n",
       "      <td>0</td>\n",
       "      <td>0</td>\n",
       "      <td>0</td>\n",
       "      <td>0</td>\n",
       "      <td>0</td>\n",
       "      <td>0</td>\n",
       "    </tr>\n",
       "    <tr>\n",
       "      <th>1</th>\n",
       "      <td>0</td>\n",
       "      <td>0</td>\n",
       "      <td>0</td>\n",
       "      <td>0</td>\n",
       "      <td>0</td>\n",
       "      <td>0</td>\n",
       "      <td>0</td>\n",
       "      <td>0</td>\n",
       "      <td>0</td>\n",
       "      <td>0</td>\n",
       "      <td>...</td>\n",
       "      <td>0</td>\n",
       "      <td>0</td>\n",
       "      <td>0</td>\n",
       "      <td>0</td>\n",
       "      <td>0</td>\n",
       "      <td>0</td>\n",
       "      <td>0</td>\n",
       "      <td>0</td>\n",
       "      <td>0</td>\n",
       "      <td>0</td>\n",
       "    </tr>\n",
       "    <tr>\n",
       "      <th>2</th>\n",
       "      <td>0</td>\n",
       "      <td>0</td>\n",
       "      <td>0</td>\n",
       "      <td>0</td>\n",
       "      <td>0</td>\n",
       "      <td>0</td>\n",
       "      <td>0</td>\n",
       "      <td>0</td>\n",
       "      <td>0</td>\n",
       "      <td>0</td>\n",
       "      <td>...</td>\n",
       "      <td>0</td>\n",
       "      <td>0</td>\n",
       "      <td>0</td>\n",
       "      <td>0</td>\n",
       "      <td>0</td>\n",
       "      <td>0</td>\n",
       "      <td>0</td>\n",
       "      <td>0</td>\n",
       "      <td>0</td>\n",
       "      <td>0</td>\n",
       "    </tr>\n",
       "    <tr>\n",
       "      <th>3</th>\n",
       "      <td>0</td>\n",
       "      <td>0</td>\n",
       "      <td>0</td>\n",
       "      <td>0</td>\n",
       "      <td>0</td>\n",
       "      <td>0</td>\n",
       "      <td>0</td>\n",
       "      <td>0</td>\n",
       "      <td>0</td>\n",
       "      <td>0</td>\n",
       "      <td>...</td>\n",
       "      <td>0</td>\n",
       "      <td>0</td>\n",
       "      <td>0</td>\n",
       "      <td>0</td>\n",
       "      <td>0</td>\n",
       "      <td>0</td>\n",
       "      <td>0</td>\n",
       "      <td>0</td>\n",
       "      <td>0</td>\n",
       "      <td>0</td>\n",
       "    </tr>\n",
       "    <tr>\n",
       "      <th>4</th>\n",
       "      <td>0</td>\n",
       "      <td>0</td>\n",
       "      <td>0</td>\n",
       "      <td>0</td>\n",
       "      <td>0</td>\n",
       "      <td>0</td>\n",
       "      <td>0</td>\n",
       "      <td>0</td>\n",
       "      <td>0</td>\n",
       "      <td>0</td>\n",
       "      <td>...</td>\n",
       "      <td>0</td>\n",
       "      <td>0</td>\n",
       "      <td>0</td>\n",
       "      <td>0</td>\n",
       "      <td>0</td>\n",
       "      <td>0</td>\n",
       "      <td>0</td>\n",
       "      <td>0</td>\n",
       "      <td>0</td>\n",
       "      <td>0</td>\n",
       "    </tr>\n",
       "  </tbody>\n",
       "</table>\n",
       "<p>5 rows × 784 columns</p>\n",
       "</div>"
      ],
      "text/plain": [
       "   pixel0  pixel1  pixel2  pixel3  pixel4  pixel5  pixel6  pixel7  pixel8  \\\n",
       "0       0       0       0       0       0       0       0       0       0   \n",
       "1       0       0       0       0       0       0       0       0       0   \n",
       "2       0       0       0       0       0       0       0       0       0   \n",
       "3       0       0       0       0       0       0       0       0       0   \n",
       "4       0       0       0       0       0       0       0       0       0   \n",
       "\n",
       "   pixel9  ...  pixel774  pixel775  pixel776  pixel777  pixel778  pixel779  \\\n",
       "0       0  ...         0         0         0         0         0         0   \n",
       "1       0  ...         0         0         0         0         0         0   \n",
       "2       0  ...         0         0         0         0         0         0   \n",
       "3       0  ...         0         0         0         0         0         0   \n",
       "4       0  ...         0         0         0         0         0         0   \n",
       "\n",
       "   pixel780  pixel781  pixel782  pixel783  \n",
       "0         0         0         0         0  \n",
       "1         0         0         0         0  \n",
       "2         0         0         0         0  \n",
       "3         0         0         0         0  \n",
       "4         0         0         0         0  \n",
       "\n",
       "[5 rows x 784 columns]"
      ]
     },
     "execution_count": 4,
     "metadata": {},
     "output_type": "execute_result"
    }
   ],
   "source": [
    "print(test_df.shape)\n",
    "test_df.head()"
   ]
  },
  {
   "cell_type": "code",
   "execution_count": 5,
   "id": "cb4dce9a",
   "metadata": {
    "execution": {
     "iopub.execute_input": "2023-12-31T20:03:41.921154Z",
     "iopub.status.busy": "2023-12-31T20:03:41.920821Z",
     "iopub.status.idle": "2023-12-31T20:03:41.946957Z",
     "shell.execute_reply": "2023-12-31T20:03:41.946148Z"
    },
    "papermill": {
     "duration": 0.036962,
     "end_time": "2023-12-31T20:03:41.948960",
     "exception": false,
     "start_time": "2023-12-31T20:03:41.911998",
     "status": "completed"
    },
    "tags": []
   },
   "outputs": [
    {
     "name": "stdout",
     "output_type": "stream",
     "text": [
      "********** Labels **********\n"
     ]
    },
    {
     "data": {
      "text/plain": [
       "label\n",
       "1    4684\n",
       "7    4401\n",
       "3    4351\n",
       "9    4188\n",
       "2    4177\n",
       "6    4137\n",
       "0    4132\n",
       "4    4072\n",
       "8    4063\n",
       "5    3795\n",
       "Name: count, dtype: int64"
      ]
     },
     "metadata": {},
     "output_type": "display_data"
    },
    {
     "name": "stdout",
     "output_type": "stream",
     "text": [
      "------------------------------\n"
     ]
    },
    {
     "data": {
      "text/plain": [
       "count    42000.000000\n",
       "mean         4.456643\n",
       "std          2.887730\n",
       "min          0.000000\n",
       "25%          2.000000\n",
       "50%          4.000000\n",
       "75%          7.000000\n",
       "max          9.000000\n",
       "Name: label, dtype: float64"
      ]
     },
     "metadata": {},
     "output_type": "display_data"
    },
    {
     "name": "stdout",
     "output_type": "stream",
     "text": [
      "========================================\n"
     ]
    }
   ],
   "source": [
    "print(\"*\" * 10, 'Labels', \"*\" * 10)\n",
    "display(train_df['label'].value_counts())\n",
    "print(\"-\" * 30)\n",
    "display(train_df['label'].describe())\n",
    "print(\"=\" * 40)"
   ]
  },
  {
   "cell_type": "markdown",
   "id": "9e0e26fd",
   "metadata": {
    "papermill": {
     "duration": 0.009747,
     "end_time": "2023-12-31T20:03:41.967414",
     "exception": false,
     "start_time": "2023-12-31T20:03:41.957667",
     "status": "completed"
    },
    "tags": []
   },
   "source": [
    "# Split the data into Features Matrix(X) & Target Vector(y)"
   ]
  },
  {
   "cell_type": "code",
   "execution_count": 6,
   "id": "e63ec59b",
   "metadata": {
    "execution": {
     "iopub.execute_input": "2023-12-31T20:03:41.986970Z",
     "iopub.status.busy": "2023-12-31T20:03:41.986674Z",
     "iopub.status.idle": "2023-12-31T20:03:42.069585Z",
     "shell.execute_reply": "2023-12-31T20:03:42.068571Z"
    },
    "papermill": {
     "duration": 0.095662,
     "end_time": "2023-12-31T20:03:42.072318",
     "exception": false,
     "start_time": "2023-12-31T20:03:41.976656",
     "status": "completed"
    },
    "tags": []
   },
   "outputs": [],
   "source": [
    "X_train = train_df.drop(labels = [\"label\"],axis = 1) \n",
    "y_train = train_df[\"label\"]"
   ]
  },
  {
   "cell_type": "markdown",
   "id": "ef33a4e4",
   "metadata": {
    "papermill": {
     "duration": 0.008444,
     "end_time": "2023-12-31T20:03:42.089759",
     "exception": false,
     "start_time": "2023-12-31T20:03:42.081315",
     "status": "completed"
    },
    "tags": []
   },
   "source": [
    "### Plot the Labels "
   ]
  },
  {
   "cell_type": "code",
   "execution_count": 7,
   "id": "c49f90f3",
   "metadata": {
    "execution": {
     "iopub.execute_input": "2023-12-31T20:03:42.109103Z",
     "iopub.status.busy": "2023-12-31T20:03:42.108788Z",
     "iopub.status.idle": "2023-12-31T20:03:42.398845Z",
     "shell.execute_reply": "2023-12-31T20:03:42.397929Z"
    },
    "papermill": {
     "duration": 0.302097,
     "end_time": "2023-12-31T20:03:42.401300",
     "exception": false,
     "start_time": "2023-12-31T20:03:42.099203",
     "status": "completed"
    },
    "tags": []
   },
   "outputs": [
    {
     "data": {
      "image/png": "[encoded data removed]",
      "text/plain": [
       "<Figure size 1200x600 with 1 Axes>"
      ]
     },
     "metadata": {},
     "output_type": "display_data"
    }
   ],
   "source": [
    "digits_counts = y_train.value_counts()\n",
    "digits_counts.plot(kind = 'bar', color = sns.color_palette(\"Blues_r\"), title = \"Number of digit classes\", figsize = (12,6));"
   ]
  },
  {
   "cell_type": "markdown",
   "id": "0951cf13",
   "metadata": {
    "papermill": {
     "duration": 0.009085,
     "end_time": "2023-12-31T20:03:42.419575",
     "exception": false,
     "start_time": "2023-12-31T20:03:42.410490",
     "status": "completed"
    },
    "tags": []
   },
   "source": [
    "    Seems like all the digits in the same range, So the label is Balanced"
   ]
  },
  {
   "cell_type": "markdown",
   "id": "9724daaf",
   "metadata": {
    "papermill": {
     "duration": 0.00867,
     "end_time": "2023-12-31T20:03:42.437635",
     "exception": false,
     "start_time": "2023-12-31T20:03:42.428965",
     "status": "completed"
    },
    "tags": []
   },
   "source": [
    "# Reshape the data to (28*28) "
   ]
  },
  {
   "cell_type": "code",
   "execution_count": 8,
   "id": "23ce42bf",
   "metadata": {
    "execution": {
     "iopub.execute_input": "2023-12-31T20:03:42.457057Z",
     "iopub.status.busy": "2023-12-31T20:03:42.456774Z",
     "iopub.status.idle": "2023-12-31T20:03:42.461436Z",
     "shell.execute_reply": "2023-12-31T20:03:42.460460Z"
    },
    "papermill": {
     "duration": 0.016661,
     "end_time": "2023-12-31T20:03:42.463473",
     "exception": false,
     "start_time": "2023-12-31T20:03:42.446812",
     "status": "completed"
    },
    "tags": []
   },
   "outputs": [],
   "source": [
    "X_train = X_train.values.reshape(-1,28,28,1)\n",
    "test = test_df.values.reshape(-1,28,28,1)"
   ]
  },
  {
   "cell_type": "markdown",
   "id": "8f8e77aa",
   "metadata": {
    "papermill": {
     "duration": 0.009023,
     "end_time": "2023-12-31T20:03:42.481799",
     "exception": false,
     "start_time": "2023-12-31T20:03:42.472776",
     "status": "completed"
    },
    "tags": []
   },
   "source": [
    "    Keras requires an extra dimension in the end which correspond to channels. MNIST images are gray scaled so it use only  one channel. "
   ]
  },
  {
   "cell_type": "markdown",
   "id": "f3817276",
   "metadata": {
    "papermill": {
     "duration": 0.009073,
     "end_time": "2023-12-31T20:03:42.499721",
     "exception": false,
     "start_time": "2023-12-31T20:03:42.490648",
     "status": "completed"
    },
    "tags": []
   },
   "source": [
    "# Plot some images"
   ]
  },
  {
   "cell_type": "code",
   "execution_count": 9,
   "id": "7005cc89",
   "metadata": {
    "execution": {
     "iopub.execute_input": "2023-12-31T20:03:42.519555Z",
     "iopub.status.busy": "2023-12-31T20:03:42.519262Z",
     "iopub.status.idle": "2023-12-31T20:03:42.906548Z",
     "shell.execute_reply": "2023-12-31T20:03:42.905362Z"
    },
    "papermill": {
     "duration": 0.400658,
     "end_time": "2023-12-31T20:03:42.909673",
     "exception": false,
     "start_time": "2023-12-31T20:03:42.509015",
     "status": "completed"
    },
    "scrolled": true,
    "tags": []
   },
   "outputs": [
    {
     "data": {
      "image/png": "[encoded data removed]",
      "text/plain": [
       "<Figure size 1500x1000 with 5 Axes>"
      ]
     },
     "metadata": {},
     "output_type": "display_data"
    }
   ],
   "source": [
    "def plot_images(data, num_of_images):\n",
    "    plt.figure(figsize=(15,10))\n",
    "    for i in range(num_of_images):\n",
    "        index = random.randint(0,len(train_df)) # Get a random row index to display the img of whis row\n",
    "            \n",
    "        plt.subplot(1,num_of_images,i+1)\n",
    "        plt.imshow(data[index],cmap='gray') # Displaying the image in grayscale mode\n",
    "        plt.title(y_train[index]) # Since the test data don't contain the label,so I used the y_train\n",
    "        plt.axis('off')\n",
    "    \n",
    "    plt.show()\n",
    "    \n",
    "plot_images(X_train,5)"
   ]
  },
  {
   "cell_type": "markdown",
   "id": "64010b52",
   "metadata": {
    "papermill": {
     "duration": 0.011296,
     "end_time": "2023-12-31T20:03:42.934758",
     "exception": false,
     "start_time": "2023-12-31T20:03:42.923462",
     "status": "completed"
    },
    "tags": []
   },
   "source": [
    "# Convert the training data into train & validation"
   ]
  },
  {
   "cell_type": "code",
   "execution_count": 10,
   "id": "d35a9428",
   "metadata": {
    "execution": {
     "iopub.execute_input": "2023-12-31T20:03:42.955147Z",
     "iopub.status.busy": "2023-12-31T20:03:42.954729Z",
     "iopub.status.idle": "2023-12-31T20:03:43.349709Z",
     "shell.execute_reply": "2023-12-31T20:03:43.348584Z"
    },
    "papermill": {
     "duration": 0.408588,
     "end_time": "2023-12-31T20:03:43.352726",
     "exception": false,
     "start_time": "2023-12-31T20:03:42.944138",
     "status": "completed"
    },
    "tags": []
   },
   "outputs": [
    {
     "name": "stdout",
     "output_type": "stream",
     "text": [
      "Train:\n",
      "(33600, 28, 28, 1)\n",
      "(33600,)\n",
      "\n",
      "Test:\n",
      "(8400, 28, 28, 1)\n",
      "(8400,)\n"
     ]
    }
   ],
   "source": [
    "X_train, X_val, y_train, y_val = train_test_split(X_train, y_train, test_size = 0.2, random_state=42)\n",
    "\n",
    "print(\"Train:\")\n",
    "print(X_train.shape)\n",
    "print(y_train.shape)\n",
    "print(\"\\nTest:\")\n",
    "print(X_val.shape)\n",
    "print(y_val.shape)"
   ]
  },
  {
   "cell_type": "markdown",
   "id": "ce635537",
   "metadata": {
    "papermill": {
     "duration": 0.009425,
     "end_time": "2023-12-31T20:03:43.373183",
     "exception": false,
     "start_time": "2023-12-31T20:03:43.363758",
     "status": "completed"
    },
    "tags": []
   },
   "source": [
    "# Rescale the images & Image Augmentation"
   ]
  },
  {
   "cell_type": "code",
   "execution_count": 11,
   "id": "35d8f9b8",
   "metadata": {
    "execution": {
     "iopub.execute_input": "2023-12-31T20:03:43.394360Z",
     "iopub.status.busy": "2023-12-31T20:03:43.393597Z",
     "iopub.status.idle": "2023-12-31T20:03:43.453694Z",
     "shell.execute_reply": "2023-12-31T20:03:43.452666Z"
    },
    "papermill": {
     "duration": 0.074055,
     "end_time": "2023-12-31T20:03:43.456662",
     "exception": false,
     "start_time": "2023-12-31T20:03:43.382607",
     "status": "completed"
    },
    "tags": []
   },
   "outputs": [],
   "source": [
    "train_datagen = ImageDataGenerator(rescale=1./255,\n",
    "                                    rotation_range=15,\n",
    "                                    zoom_range = 0.15,  \n",
    "                                    width_shift_range=0.1, \n",
    "                                    height_shift_range=0.1)\n",
    "\n",
    "val_datagen = ImageDataGenerator(rescale=1./255)\n",
    "\n",
    "train_generator = train_datagen.flow(X_train, y_train, batch_size=16, shuffle=True)\n",
    "val_generator = val_datagen.flow(X_val, y_val, batch_size=16, shuffle=True)"
   ]
  },
  {
   "cell_type": "markdown",
   "id": "1cf58c29",
   "metadata": {
    "papermill": {
     "duration": 0.0102,
     "end_time": "2023-12-31T20:03:43.481643",
     "exception": false,
     "start_time": "2023-12-31T20:03:43.471443",
     "status": "completed"
    },
    "tags": []
   },
   "source": [
    "    The image augmentation help avoid overfitting in small datasets"
   ]
  },
  {
   "cell_type": "markdown",
   "id": "496085d0",
   "metadata": {
    "papermill": {
     "duration": 0.010457,
     "end_time": "2023-12-31T20:03:43.502032",
     "exception": false,
     "start_time": "2023-12-31T20:03:43.491575",
     "status": "completed"
    },
    "tags": []
   },
   "source": [
    "# Making the Model"
   ]
  },
  {
   "cell_type": "code",
   "execution_count": 12,
   "id": "8c4c3fd7",
   "metadata": {
    "execution": {
     "iopub.execute_input": "2023-12-31T20:03:43.523559Z",
     "iopub.status.busy": "2023-12-31T20:03:43.522926Z",
     "iopub.status.idle": "2023-12-31T20:03:47.169928Z",
     "shell.execute_reply": "2023-12-31T20:03:47.168855Z"
    },
    "papermill": {
     "duration": 3.660822,
     "end_time": "2023-12-31T20:03:47.172551",
     "exception": false,
     "start_time": "2023-12-31T20:03:43.511729",
     "status": "completed"
    },
    "tags": []
   },
   "outputs": [],
   "source": [
    "model = Sequential()\n",
    "\n",
    "model.add(InputLayer(input_shape=(28,28,1)))\n",
    "\n",
    "model.add(Conv2D(16, (3*3), activation=\"relu\"))\n",
    "model.add(MaxPool2D())\n",
    "\n",
    "model.add(Conv2D(32, (3*3), activation=\"relu\"))\n",
    "model.add(MaxPool2D())\n",
    "\n",
    "model.add(Flatten())\n",
    "\n",
    "model.add(Dense(256, activation=\"relu\"))\n",
    "model.add(Dense(10, activation=\"softmax\"))"
   ]
  },
  {
   "cell_type": "code",
   "execution_count": 13,
   "id": "80d18627",
   "metadata": {
    "execution": {
     "iopub.execute_input": "2023-12-31T20:03:47.194428Z",
     "iopub.status.busy": "2023-12-31T20:03:47.194080Z",
     "iopub.status.idle": "2023-12-31T20:03:47.221101Z",
     "shell.execute_reply": "2023-12-31T20:03:47.220047Z"
    },
    "papermill": {
     "duration": 0.047229,
     "end_time": "2023-12-31T20:03:47.230154",
     "exception": false,
     "start_time": "2023-12-31T20:03:47.182925",
     "status": "completed"
    },
    "tags": []
   },
   "outputs": [
    {
     "name": "stdout",
     "output_type": "stream",
     "text": [
      "Model: \"sequential\"\n",
      "_________________________________________________________________\n",
      " Layer (type)                Output Shape              Param #   \n",
      "=================================================================\n",
      " conv2d (Conv2D)             (None, 20, 20, 16)        1312      \n",
      "                                                                 \n",
      " max_pooling2d (MaxPooling2  (None, 10, 10, 16)        0         \n",
      " D)                                                              \n",
      "                                                                 \n",
      " conv2d_1 (Conv2D)           (None, 2, 2, 32)          41504     \n",
      "                                                                 \n",
      " max_pooling2d_1 (MaxPoolin  (None, 1, 1, 32)          0         \n",
      " g2D)                                                            \n",
      "                                                                 \n",
      " flatten (Flatten)           (None, 32)                0         \n",
      "                                                                 \n",
      " dense (Dense)               (None, 256)               8448      \n",
      "                                                                 \n",
      " dense_1 (Dense)             (None, 10)                2570      \n",
      "                                                                 \n",
      "=================================================================\n",
      "Total params: 53834 (210.29 KB)\n",
      "Trainable params: 53834 (210.29 KB)\n",
      "Non-trainable params: 0 (0.00 Byte)\n",
      "_________________________________________________________________\n"
     ]
    }
   ],
   "source": [
    "model.summary()"
   ]
  },
  {
   "cell_type": "code",
   "execution_count": 14,
   "id": "06c0825a",
   "metadata": {
    "execution": {
     "iopub.execute_input": "2023-12-31T20:03:47.256093Z",
     "iopub.status.busy": "2023-12-31T20:03:47.255842Z",
     "iopub.status.idle": "2023-12-31T20:03:47.271244Z",
     "shell.execute_reply": "2023-12-31T20:03:47.270458Z"
    },
    "papermill": {
     "duration": 0.03006,
     "end_time": "2023-12-31T20:03:47.273312",
     "exception": false,
     "start_time": "2023-12-31T20:03:47.243252",
     "status": "completed"
    },
    "tags": []
   },
   "outputs": [],
   "source": [
    "model.compile(optimizer=keras.optimizers.Adam(learning_rate=1.5e-4),\n",
    "              loss='sparse_categorical_crossentropy',\n",
    "              metrics=['accuracy'])"
   ]
  },
  {
   "cell_type": "code",
   "execution_count": 15,
   "id": "171948d4",
   "metadata": {
    "execution": {
     "iopub.execute_input": "2023-12-31T20:03:47.298262Z",
     "iopub.status.busy": "2023-12-31T20:03:47.297952Z",
     "iopub.status.idle": "2023-12-31T20:08:39.380804Z",
     "shell.execute_reply": "2023-12-31T20:08:39.379664Z"
    },
    "papermill": {
     "duration": 292.09761,
     "end_time": "2023-12-31T20:08:39.383042",
     "exception": false,
     "start_time": "2023-12-31T20:03:47.285432",
     "status": "completed"
    },
    "scrolled": true,
    "tags": []
   },
   "outputs": [
    {
     "name": "stdout",
     "output_type": "stream",
     "text": [
      "Epoch 1/15\n",
      "2100/2100 [==============================] - 28s 9ms/step - loss: 0.8111 - accuracy: 0.7471 - val_loss: 0.1978 - val_accuracy: 0.9473\n",
      "Epoch 2/15\n",
      "2100/2100 [==============================] - 19s 9ms/step - loss: 0.3196 - accuracy: 0.9064 - val_loss: 0.1291 - val_accuracy: 0.9632\n",
      "Epoch 3/15\n",
      "2100/2100 [==============================] - 19s 9ms/step - loss: 0.2340 - accuracy: 0.9310 - val_loss: 0.1089 - val_accuracy: 0.9681\n",
      "Epoch 4/15\n",
      "2100/2100 [==============================] - 19s 9ms/step - loss: 0.2026 - accuracy: 0.9405 - val_loss: 0.0914 - val_accuracy: 0.9736\n",
      "Epoch 5/15\n",
      "2100/2100 [==============================] - 19s 9ms/step - loss: 0.1787 - accuracy: 0.9471 - val_loss: 0.0746 - val_accuracy: 0.9768\n",
      "Epoch 6/15\n",
      "2100/2100 [==============================] - 19s 9ms/step - loss: 0.1640 - accuracy: 0.9493 - val_loss: 0.0709 - val_accuracy: 0.9799\n",
      "Epoch 7/15\n",
      "2100/2100 [==============================] - 19s 9ms/step - loss: 0.1510 - accuracy: 0.9555 - val_loss: 0.0703 - val_accuracy: 0.9788\n",
      "Epoch 8/15\n",
      "2100/2100 [==============================] - 19s 9ms/step - loss: 0.1425 - accuracy: 0.9568 - val_loss: 0.0609 - val_accuracy: 0.9818\n",
      "Epoch 9/15\n",
      "2100/2100 [==============================] - 19s 9ms/step - loss: 0.1301 - accuracy: 0.9597 - val_loss: 0.0568 - val_accuracy: 0.9829\n",
      "Epoch 10/15\n",
      "2100/2100 [==============================] - 19s 9ms/step - loss: 0.1212 - accuracy: 0.9627 - val_loss: 0.0561 - val_accuracy: 0.9837\n",
      "Epoch 11/15\n",
      "2100/2100 [==============================] - 19s 9ms/step - loss: 0.1163 - accuracy: 0.9637 - val_loss: 0.0600 - val_accuracy: 0.9830\n",
      "Epoch 12/15\n",
      "2100/2100 [==============================] - 19s 9ms/step - loss: 0.1142 - accuracy: 0.9641 - val_loss: 0.0517 - val_accuracy: 0.9838\n",
      "Epoch 13/15\n",
      "2100/2100 [==============================] - 18s 9ms/step - loss: 0.1103 - accuracy: 0.9656 - val_loss: 0.0476 - val_accuracy: 0.9867\n",
      "Epoch 14/15\n",
      "2100/2100 [==============================] - 18s 9ms/step - loss: 0.1031 - accuracy: 0.9679 - val_loss: 0.0438 - val_accuracy: 0.9873\n",
      "Epoch 15/15\n",
      "2100/2100 [==============================] - 18s 9ms/step - loss: 0.0983 - accuracy: 0.9698 - val_loss: 0.0437 - val_accuracy: 0.9879\n"
     ]
    }
   ],
   "source": [
    "history = model.fit(train_generator, epochs=15, validation_data=val_generator)"
   ]
  },
  {
   "cell_type": "markdown",
   "id": "d39b02ac",
   "metadata": {
    "papermill": {
     "duration": 0.443923,
     "end_time": "2023-12-31T20:08:40.247487",
     "exception": false,
     "start_time": "2023-12-31T20:08:39.803564",
     "status": "completed"
    },
    "tags": []
   },
   "source": [
    "# Plot the accuracy"
   ]
  },
  {
   "cell_type": "code",
   "execution_count": 16,
   "id": "63fce1bf",
   "metadata": {
    "execution": {
     "iopub.execute_input": "2023-12-31T20:08:41.038889Z",
     "iopub.status.busy": "2023-12-31T20:08:41.038540Z",
     "iopub.status.idle": "2023-12-31T20:08:41.326100Z",
     "shell.execute_reply": "2023-12-31T20:08:41.325174Z"
    },
    "papermill": {
     "duration": 0.685771,
     "end_time": "2023-12-31T20:08:41.328507",
     "exception": false,
     "start_time": "2023-12-31T20:08:40.642736",
     "status": "completed"
    },
    "tags": []
   },
   "outputs": [
    {
     "data": {
      "image/png": "[encoded data removed]",
      "text/plain": [
       "<Figure size 640x480 with 1 Axes>"
      ]
     },
     "metadata": {},
     "output_type": "display_data"
    }
   ],
   "source": [
    "tarin_acc = history.history['accuracy']\n",
    "val_acc = history.history['val_accuracy']\n",
    "\n",
    "plt.plot(tarin_acc, c = 'b', label = 'training accuracy')\n",
    "plt.plot(val_acc, c = 'r', label = 'validation accuracy')\n",
    "plt.title('Model Accuracy', loc ='right')\n",
    "plt.legend()\n",
    "plt.show()"
   ]
  },
  {
   "cell_type": "markdown",
   "id": "09745633",
   "metadata": {
    "papermill": {
     "duration": 0.393757,
     "end_time": "2023-12-31T20:08:42.123684",
     "exception": false,
     "start_time": "2023-12-31T20:08:41.729927",
     "status": "completed"
    },
    "tags": []
   },
   "source": [
    "# Plot the Loss"
   ]
  },
  {
   "cell_type": "code",
   "execution_count": 17,
   "id": "1a725186",
   "metadata": {
    "execution": {
     "iopub.execute_input": "2023-12-31T20:08:42.972001Z",
     "iopub.status.busy": "2023-12-31T20:08:42.971638Z",
     "iopub.status.idle": "2023-12-31T20:08:43.288411Z",
     "shell.execute_reply": "2023-12-31T20:08:43.287553Z"
    },
    "papermill": {
     "duration": 0.714627,
     "end_time": "2023-12-31T20:08:43.290479",
     "exception": false,
     "start_time": "2023-12-31T20:08:42.575852",
     "status": "completed"
    },
    "tags": []
   },
   "outputs": [
    {
     "data": {
      "image/png": "[encoded data removed]",
      "text/plain": [
       "<Figure size 640x480 with 1 Axes>"
      ]
     },
     "metadata": {},
     "output_type": "display_data"
    }
   ],
   "source": [
    "train_loss = history.history['loss']\n",
    "val_loss = history.history['val_loss']\n",
    "\n",
    "plt.plot(train_loss, c = 'b', label = 'training loss')\n",
    "plt.plot(val_loss, c = 'r', label = 'validation loss')\n",
    "plt.title('Model Loss', loc ='right')\n",
    "plt.legend()\n",
    "plt.show()"
   ]
  },
  {
   "cell_type": "markdown",
   "id": "65588ba2",
   "metadata": {
    "papermill": {
     "duration": 0.414314,
     "end_time": "2023-12-31T20:08:44.103682",
     "exception": false,
     "start_time": "2023-12-31T20:08:43.689368",
     "status": "completed"
    },
    "tags": []
   },
   "source": [
    "### Submission "
   ]
  },
  {
   "cell_type": "code",
   "execution_count": 18,
   "id": "2aed9f2f",
   "metadata": {
    "execution": {
     "iopub.execute_input": "2023-12-31T20:08:44.925969Z",
     "iopub.status.busy": "2023-12-31T20:08:44.925044Z",
     "iopub.status.idle": "2023-12-31T20:08:47.583475Z",
     "shell.execute_reply": "2023-12-31T20:08:47.582603Z"
    },
    "papermill": {
     "duration": 3.06312,
     "end_time": "2023-12-31T20:08:47.585909",
     "exception": false,
     "start_time": "2023-12-31T20:08:44.522789",
     "status": "completed"
    },
    "tags": []
   },
   "outputs": [
    {
     "name": "stdout",
     "output_type": "stream",
     "text": [
      "875/875 [==============================] - 2s 2ms/step\n"
     ]
    }
   ],
   "source": [
    "results = model.predict(test)\n",
    "\n",
    "results = np.argmax(results,axis = 1)\n",
    "results = pd.Series(results,name=\"Label\")\n",
    "\n",
    "submission = pd.concat([pd.Series(range(1,28001),name = \"ImageId\"),results],axis = 1)\n",
    "submission.to_csv('Submission.csv',index=False)"
   ]
  },
  {
   "cell_type": "code",
   "execution_count": null,
   "id": "3e72a559",
   "metadata": {
    "papermill": {
     "duration": 0.44909,
     "end_time": "2023-12-31T20:08:48.435708",
     "exception": false,
     "start_time": "2023-12-31T20:08:47.986618",
     "status": "completed"
    },
    "tags": []
   },
   "outputs": [],
   "source": []
  }
 ],
 "metadata": {
  "kaggle": {
   "accelerator": "nvidiaTeslaT4",
   "dataSources": [
    {
     "databundleVersionId": 861823,
     "sourceId": 3004,
     "sourceType": "competition"
    }
   ],
   "dockerImageVersionId": 30626,
   "isGpuEnabled": true,
   "isInternetEnabled": true,
   "language": "python",
   "sourceType": "notebook"
  },
  "kernelspec": {
   "display_name": "Python 3",
   "language": "python",
   "name": "python3"
  },
  "language_info": {
   "codemirror_mode": {
    "name": "ipython",
    "version": 3
   },
   "file_extension": ".py",
   "mimetype": "text/x-python",
   "name": "python",
   "nbconvert_exporter": "python",
   "pygments_lexer": "ipython3",
   "version": "3.10.12"
  },
  "papermill": {
   "default_parameters": {},
   "duration": 332.673171,
   "end_time": "2023-12-31T20:08:52.294699",
   "environment_variables": {},
   "exception": null,
   "input_path": "__notebook__.ipynb",
   "output_path": "__notebook__.ipynb",
   "parameters": {},
   "start_time": "2023-12-31T20:03:19.621528",
   "version": "2.4.0"
  }
 },
 "nbformat": 4,
 "nbformat_minor": 5
}
